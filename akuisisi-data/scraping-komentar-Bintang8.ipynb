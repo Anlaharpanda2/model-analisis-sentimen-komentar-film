{
 "cells": [
  {
   "cell_type": "code",
   "execution_count": 1,
   "id": "7237d903",
   "metadata": {},
   "outputs": [],
   "source": [
    "from selenium.webdriver.firefox.options import Options\n",
    "from selenium import webdriver\n",
    "\n",
    "options = Options()\n",
    "# options.headless = True  # kalau mau tanpa GUI\n",
    "\n",
    "driver = webdriver.Firefox(options=options)\n"
   ]
  },
  {
   "cell_type": "code",
   "execution_count": 2,
   "id": "0f3731a9",
   "metadata": {},
   "outputs": [],
   "source": [
    "import time\n",
    "\n",
    "url = \"https://www.imdb.com/title/tt0416449/reviews/?rating=8\"\n",
    "driver.get(url)\n",
    "time.sleep(10)  # tunggu halaman render\n"
   ]
  },
  {
   "cell_type": "code",
   "execution_count": 3,
   "id": "de8aa976",
   "metadata": {},
   "outputs": [
    {
     "name": "stdout",
     "output_type": "stream",
     "text": [
      "--- Memulai proses 'Load More' (maksimal 9 kali) ---\n",
      "🔄 Klik tombol 'Load More' (Klik ke-1)\n",
      "🔄 Klik tombol 'Load More' (Klik ke-2)\n",
      "🔄 Klik tombol 'Load More' (Klik ke-3)\n",
      "🔄 Klik tombol 'Load More' (Klik ke-4)\n",
      "🔄 Klik tombol 'Load More' (Klik ke-5)\n",
      "🔄 Klik tombol 'Load More' (Klik ke-6)\n",
      "🔄 Klik tombol 'Load More' (Klik ke-7)\n",
      "🔄 Klik tombol 'Load More' (Klik ke-8)\n",
      "🔄 Klik tombol 'Load More' (Klik ke-9)\n",
      "✅ Sudah mencapai batas maksimal 9 klik.\n"
     ]
    }
   ],
   "source": [
    "from selenium.common.exceptions import NoSuchElementException\n",
    "from selenium.webdriver.common.by import By\n",
    "import time\n",
    "\n",
    "jumlah_klik = 0\n",
    "batas_klik = 9\n",
    "\n",
    "print(f\"--- Memulai proses 'Load More' (maksimal {batas_klik} kali) ---\")\n",
    "\n",
    "while True:\n",
    "    if jumlah_klik >= batas_klik:\n",
    "        print(f\"✅ Sudah mencapai batas maksimal {batas_klik} klik.\")\n",
    "        break\n",
    "        \n",
    "    try:\n",
    "        button = driver.find_element(By.CSS_SELECTOR, 'button.ipc-see-more__button')\n",
    "        driver.execute_script(\"arguments[0].scrollIntoView(true);\", button)\n",
    "        time.sleep(1)\n",
    "\n",
    "        driver.execute_script(\"arguments[0].click();\", button)\n",
    "        \n",
    "        print(f\"🔄 Klik tombol 'Load More' (Klik ke-{jumlah_klik + 1})\")\n",
    "        jumlah_klik += 1\n",
    "        time.sleep(2.5) \n",
    "        \n",
    "    except NoSuchElementException:\n",
    "        print(\"✅ Tombol 'Load More' tidak ditemukan, semua review sudah dimuat.\")\n",
    "        break"
   ]
  },
  {
   "cell_type": "code",
   "execution_count": 4,
   "id": "f5454c28",
   "metadata": {},
   "outputs": [
    {
     "name": "stdout",
     "output_type": "stream",
     "text": [
      "\n",
      "✅ button spoiler sebanyak 55 berhasil di tampilkan \n",
      "📝 Total review ditemukan: 249\n"
     ]
    }
   ],
   "source": [
    "from selenium.webdriver.common.by import By\n",
    "import re\n",
    "import time \n",
    "try:\n",
    "    spoiler_buttons = driver.find_elements(By.CSS_SELECTOR, 'button.review-spoiler-button')\n",
    "    jumlah_spoiler_ditemukan = len(spoiler_buttons)\n",
    "    if jumlah_spoiler_ditemukan > 0:\n",
    "        for button in spoiler_buttons:\n",
    "            try:\n",
    "                driver.execute_script(\"arguments[0].click();\", button)\n",
    "                time.sleep(0.3) \n",
    "            except Exception:\n",
    "                pass\n",
    "    print(f\"\\n✅ button spoiler sebanyak {jumlah_spoiler_ditemukan} berhasil di tampilkan \")\n",
    "    time.sleep(2)\n",
    "\n",
    "except Exception as e:\n",
    "    print(f\"\\n⚠️ Terjadi error saat mencoba mengklik tombol spoiler: {e}\")\n",
    "review_blocks = driver.find_elements(By.CSS_SELECTOR, 'article[class*=\"user-review-item\"]')\n",
    "print(f\"📝 Total review ditemukan: {len(review_blocks)}\")\n",
    "\n",
    "data = []\n",
    "\n",
    "for review in review_blocks:\n",
    "    try:\n",
    "        title = review.find_element(By.CSS_SELECTOR, 'h2[data-testid=\"subtitle\"]').text.strip()\n",
    "    except:\n",
    "        title = '-'\n",
    "\n",
    "    try:\n",
    "        user = review.find_element(By.CSS_SELECTOR, 'a[data-testid=\"author-link\"]').text.strip()\n",
    "    except:\n",
    "        user = '-'\n",
    "\n",
    "    try:\n",
    "        tanggal = review.find_element(By.CSS_SELECTOR, 'li.review-date').text.strip()\n",
    "    except:\n",
    "        tanggal = '-'\n",
    "\n",
    "    try:\n",
    "        comment = review.find_element(By.CSS_SELECTOR, 'div[data-testid=\"review-content\"]').text.strip()\n",
    "    except:\n",
    "        try:\n",
    "            comment = review.find_element(By.CSS_SELECTOR, 'div.ipc-html-content-inner-div').text.strip()\n",
    "        except:\n",
    "            comment = '-'\n",
    "    data.append({\n",
    "        'Nama Reviewer': user,\n",
    "        'Tanggal': tanggal,\n",
    "        'Judul': title,\n",
    "        'Komentar': comment\n",
    "    })\n",
    "\n",
    "# Tutup browser\n",
    "# driver.quit()"
   ]
  },
  {
   "cell_type": "code",
   "execution_count": 6,
   "id": "6ec918ab",
   "metadata": {},
   "outputs": [
    {
     "name": "stdout",
     "output_type": "stream",
     "text": [
      " Data review berhasil disimpan ke file Excel!\n"
     ]
    }
   ],
   "source": [
    "import pandas as pd\n",
    "# Simpan ke Excel\n",
    "df = pd.DataFrame(data)\n",
    "df.to_excel(\"positif/review_300_B8.xlsx\", index=False)\n",
    "print(\" Data review berhasil disimpan ke file Excel!\")"
   ]
  }
 ],
 "metadata": {
  "kernelspec": {
   "display_name": "Python 3 (ipykernel)",
   "language": "python",
   "name": "python3"
  },
  "language_info": {
   "codemirror_mode": {
    "name": "ipython",
    "version": 3
   },
   "file_extension": ".py",
   "mimetype": "text/x-python",
   "name": "python",
   "nbconvert_exporter": "python",
   "pygments_lexer": "ipython3",
   "version": "3.13.5"
  }
 },
 "nbformat": 4,
 "nbformat_minor": 5
}
