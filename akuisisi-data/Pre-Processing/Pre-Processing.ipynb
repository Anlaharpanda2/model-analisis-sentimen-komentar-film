{
 "cells": [
  {
   "cell_type": "code",
   "execution_count": 3,
   "id": "de8e2c68",
   "metadata": {},
   "outputs": [
    {
     "name": "stdout",
     "output_type": "stream",
     "text": [
      "Membaca file 'data_clean_300_negatif.xlsx'...\n",
      "Membaca file 'data_clean_300_positif.xlsx'...\n",
      "Menambahkan label 'negative' dan 'positive'...\n",
      "Mengacak urutan data (selang-seling)...\n",
      "\n",
      "✨ Proses penggabungan dan pengacakan berhasil!\n",
      "Total baris data gabungan: 2000\n",
      "\n",
      "✅ Data selang-seling berhasil disimpan ke: '../../dataset/data_clean_300_selang_seling.xlsx'\n",
      "Preview 5 data pertama dari hasil gabungan (sudah diacak):\n",
      "     Nama Reviewer                                    Komentar Bersih  \\\n",
      "0   adudewhoiscool  300 marvel visual stun film need view soon pos...   \n",
      "1      afroozarash  iranian ask seen film want see go read histori...   \n",
      "2        regidavis  took four week three tri see film one time mov...   \n",
      "3          set-box  without doubt one worst film ever seen sure iv...   \n",
      "4  CrassActionHero  3002007 review 300 given lot critic peopl like...   \n",
      "\n",
      "      Label  \n",
      "0  positive  \n",
      "1  negative  \n",
      "2  positive  \n",
      "3  negative  \n",
      "4  positive  \n"
     ]
    }
   ],
   "source": [
    "import pandas as pd\n",
    "import os\n",
    "\n",
    "# --- PENGATURAN NAMA FILE ---\n",
    "file_negatif = '../../dataset/data_clean_300_negatif.xlsx'\n",
    "file_positif = '../../dataset/data_clean_300_positif.xlsx'\n",
    "file_output = '../../dataset/data_clean_300_selang_seling.xlsx' # Nama file output diubah\n",
    "# -------------------------\n",
    "\n",
    "try:\n",
    "    # 1. Baca kedua file Excel\n",
    "    print(f\"Membaca file '{os.path.basename(file_negatif)}'...\")\n",
    "    df_negatif = pd.read_excel(file_negatif)\n",
    "    \n",
    "    print(f\"Membaca file '{os.path.basename(file_positif)}'...\")\n",
    "    df_positif = pd.read_excel(file_positif)\n",
    "\n",
    "    # 2. Tambahkan kolom 'Label' pada setiap DataFrame\n",
    "    print(\"Menambahkan label 'negative' dan 'positive'...\")\n",
    "    df_negatif['Label'] = 'negative'\n",
    "    df_positif['Label'] = 'positive'\n",
    "\n",
    "    # 3. Gabungkan kedua DataFrame menjadi satu\n",
    "    df_gabungan = pd.concat([df_negatif, df_positif], ignore_index=True)\n",
    "\n",
    "    # --- MODIFIKASI UTAMA DI SINI ---\n",
    "    # Acak (shuffle) semua baris data di DataFrame gabungan\n",
    "    print(\"Mengacak urutan data (selang-seling)...\")\n",
    "    df_gabungan = df_gabungan.sample(frac=1).reset_index(drop=True)\n",
    "    # --------------------------------\n",
    "\n",
    "    print(\"\\n✨ Proses penggabungan dan pengacakan berhasil!\")\n",
    "    print(f\"Total baris data gabungan: {len(df_gabungan)}\")\n",
    "\n",
    "    # 4. Simpan DataFrame gabungan ke file Excel baru\n",
    "    df_gabungan.to_excel(file_output, index=False)\n",
    "    \n",
    "    print(f\"\\n✅ Data selang-seling berhasil disimpan ke: '{file_output}'\")\n",
    "    print(\"Preview 5 data pertama dari hasil gabungan (sudah diacak):\")\n",
    "    print(df_gabungan.head())\n",
    "\n",
    "\n",
    "except FileNotFoundError as e:\n",
    "    print(f\"\\n❌ ERROR: File tidak ditemukan!\")\n",
    "    print(f\"Pastikan file '{e.filename}' ada di lokasi yang benar.\")\n",
    "except Exception as e:\n",
    "    print(f\"\\n❌ Terjadi error: {e}\")"
   ]
  }
 ],
 "metadata": {
  "kernelspec": {
   "display_name": "Python 3 (ipykernel)",
   "language": "python",
   "name": "python3"
  },
  "language_info": {
   "codemirror_mode": {
    "name": "ipython",
    "version": 3
   },
   "file_extension": ".py",
   "mimetype": "text/x-python",
   "name": "python",
   "nbconvert_exporter": "python",
   "pygments_lexer": "ipython3",
   "version": "3.13.5"
  }
 },
 "nbformat": 4,
 "nbformat_minor": 5
}
